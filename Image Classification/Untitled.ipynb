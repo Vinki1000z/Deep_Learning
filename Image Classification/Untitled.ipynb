{
 "cells": [
  {
   "cell_type": "code",
   "execution_count": null,
   "id": "45227913",
   "metadata": {},
   "outputs": [],
   "source": [
    "import tensorflow as tf\n",
    "from tensorflow import keras\n",
    "import matplotlib.pyplot as plt\n",
    "import numpy as np"
   ]
  },
  {
   "cell_type": "code",
   "execution_count": null,
   "id": "1ea07979",
   "metadata": {},
   "outputs": [],
   "source": [
    "tf.config.experimental.list_physical_devices()"
   ]
  },
  {
   "cell_type": "code",
   "execution_count": null,
   "id": "361dd2f0",
   "metadata": {},
   "outputs": [],
   "source": [
    "tf.config.experimental.list_logical_devices()"
   ]
  },
  {
   "cell_type": "code",
   "execution_count": 4,
   "id": "a8d69fce",
   "metadata": {},
   "outputs": [],
   "source": [
    "three_dim_array = np.random.rand(3, 4, 5)"
   ]
  },
  {
   "cell_type": "code",
   "execution_count": 11,
   "id": "d6d1ba3c",
   "metadata": {},
   "outputs": [
    {
     "data": {
      "text/plain": [
       "(3, 4, 5)"
      ]
     },
     "execution_count": 11,
     "metadata": {},
     "output_type": "execute_result"
    }
   ],
   "source": [
    "three_dim_array.shape"
   ]
  },
  {
   "cell_type": "code",
   "execution_count": 12,
   "id": "6f880fdc",
   "metadata": {},
   "outputs": [],
   "source": [
    "new=three_dim_array.reshape(three_dim_array.shape[0],4*5)"
   ]
  },
  {
   "cell_type": "code",
   "execution_count": 13,
   "id": "c81d7b2d",
   "metadata": {},
   "outputs": [
    {
     "data": {
      "text/plain": [
       "array([[0.87637567, 0.93622742, 0.7588406 , 0.52060901, 0.36636502,\n",
       "        0.51495771, 0.91098126, 0.93759292, 0.27813171, 0.95614485,\n",
       "        0.5720763 , 0.50486563, 0.42948035, 0.66858807, 0.41800539,\n",
       "        0.32244566, 0.02550368, 0.75910274, 0.65124892, 0.59328117],\n",
       "       [0.17787996, 0.54267463, 0.27904881, 0.52230026, 0.97186302,\n",
       "        0.76440652, 0.13429582, 0.60714672, 0.19895014, 0.75579223,\n",
       "        0.2461546 , 0.5923851 , 0.18233702, 0.89661285, 0.91034221,\n",
       "        0.0335421 , 0.0583758 , 0.61526149, 0.37188826, 0.37098265],\n",
       "       [0.0372399 , 0.59336674, 0.56338455, 0.86808597, 0.86541666,\n",
       "        0.08355191, 0.37539635, 0.70754479, 0.64602154, 0.18059617,\n",
       "        0.44911344, 0.48013929, 0.63818996, 0.54755981, 0.99574409,\n",
       "        0.62192841, 0.84040199, 0.81874136, 0.4596504 , 0.56464841]])"
      ]
     },
     "execution_count": 13,
     "metadata": {},
     "output_type": "execute_result"
    }
   ],
   "source": [
    "new"
   ]
  },
  {
   "cell_type": "code",
   "execution_count": 51,
   "id": "0d9032a3",
   "metadata": {},
   "outputs": [],
   "source": [
    "(x_train,y_train),(x_test,y_test)=tf.keras.datasets.cifar10.load_data()"
   ]
  },
  {
   "cell_type": "code",
   "execution_count": 52,
   "id": "8888aefd",
   "metadata": {},
   "outputs": [],
   "source": [
    "def plot_figure(x):\n",
    "    plt.figure(figsize=(10,1))\n",
    "    plt.imshow(x_train[x])"
   ]
  },
  {
   "cell_type": "code",
   "execution_count": 53,
   "id": "9afab4fd",
   "metadata": {},
   "outputs": [
    {
     "data": {
      "image/png": "[encoded data removed]",
      "text/plain": [
       "<Figure size 1000x100 with 1 Axes>"
      ]
     },
     "metadata": {},
     "output_type": "display_data"
    }
   ],
   "source": [
    "plot_figure(4)\n"
   ]
  },
  {
   "cell_type": "code",
   "execution_count": 54,
   "id": "edce8f8b",
   "metadata": {},
   "outputs": [
    {
     "data": {
      "image/png": "[encoded data removed]",
      "text/plain": [
       "<Figure size 1000x100 with 1 Axes>"
      ]
     },
     "metadata": {},
     "output_type": "display_data"
    }
   ],
   "source": [
    "plot_figure(0)"
   ]
  },
  {
   "cell_type": "code",
   "execution_count": 55,
   "id": "6953fa8b",
   "metadata": {},
   "outputs": [
    {
     "data": {
      "text/plain": [
       "array([[[ 59,  62,  63],\n",
       "        [ 43,  46,  45],\n",
       "        [ 50,  48,  43],\n",
       "        ...,\n",
       "        [158, 132, 108],\n",
       "        [152, 125, 102],\n",
       "        [148, 124, 103]],\n",
       "\n",
       "       [[ 16,  20,  20],\n",
       "        [  0,   0,   0],\n",
       "        [ 18,   8,   0],\n",
       "        ...,\n",
       "        [123,  88,  55],\n",
       "        [119,  83,  50],\n",
       "        [122,  87,  57]],\n",
       "\n",
       "       [[ 25,  24,  21],\n",
       "        [ 16,   7,   0],\n",
       "        [ 49,  27,   8],\n",
       "        ...,\n",
       "        [118,  84,  50],\n",
       "        [120,  84,  50],\n",
       "        [109,  73,  42]],\n",
       "\n",
       "       ...,\n",
       "\n",
       "       [[208, 170,  96],\n",
       "        [201, 153,  34],\n",
       "        [198, 161,  26],\n",
       "        ...,\n",
       "        [160, 133,  70],\n",
       "        [ 56,  31,   7],\n",
       "        [ 53,  34,  20]],\n",
       "\n",
       "       [[180, 139,  96],\n",
       "        [173, 123,  42],\n",
       "        [186, 144,  30],\n",
       "        ...,\n",
       "        [184, 148,  94],\n",
       "        [ 97,  62,  34],\n",
       "        [ 83,  53,  34]],\n",
       "\n",
       "       [[177, 144, 116],\n",
       "        [168, 129,  94],\n",
       "        [179, 142,  87],\n",
       "        ...,\n",
       "        [216, 184, 140],\n",
       "        [151, 118,  84],\n",
       "        [123,  92,  72]]], dtype=uint8)"
      ]
     },
     "execution_count": 55,
     "metadata": {},
     "output_type": "execute_result"
    }
   ],
   "source": [
    "x_train[0]"
   ]
  },
  {
   "cell_type": "code",
   "execution_count": 56,
   "id": "cded9797",
   "metadata": {},
   "outputs": [
    {
     "data": {
      "text/plain": [
       "(50000, 32, 32, 3)"
      ]
     },
     "execution_count": 56,
     "metadata": {},
     "output_type": "execute_result"
    }
   ],
   "source": [
    "x_train.shape"
   ]
  },
  {
   "cell_type": "code",
   "execution_count": 75,
   "id": "2215c6fe",
   "metadata": {},
   "outputs": [
    {
     "data": {
      "text/plain": [
       "(50000, 1)"
      ]
     },
     "execution_count": 75,
     "metadata": {},
     "output_type": "execute_result"
    }
   ],
   "source": [
    "y_train.shape"
   ]
  },
  {
   "cell_type": "code",
   "execution_count": 71,
   "id": "8e53935f",
   "metadata": {},
   "outputs": [],
   "source": [
    "y_train_flattern=y_train.reshape(len(y_train))"
   ]
  },
  {
   "cell_type": "code",
   "execution_count": 74,
   "id": "3be59a4b",
   "metadata": {},
   "outputs": [
    {
     "data": {
      "text/plain": [
       "(50000,)"
      ]
     },
     "execution_count": 74,
     "metadata": {},
     "output_type": "execute_result"
    }
   ],
   "source": [
    "y_train_flattern.shape"
   ]
  },
  {
   "cell_type": "code",
   "execution_count": 58,
   "id": "abcc78fd",
   "metadata": {},
   "outputs": [],
   "source": [
    "# from sklearn.preprocessing import MinMaxScaler\n",
    "# sx=MinMaxScaler()\n",
    "# x_train_scaled=sx.fit_transform(x_train)\n",
    "# x_test_scaled=sx.transform(x_test)\n",
    "# can't do untile we flatter it"
   ]
  },
  {
   "cell_type": "code",
   "execution_count": 59,
   "id": "c8fd6234",
   "metadata": {},
   "outputs": [],
   "source": [
    "x_train_flattern=x_train.reshape(len(x_train),32*32*3)\n",
    "x_test_flattern=x_test.reshape(len(x_test),32*32*3)"
   ]
  },
  {
   "cell_type": "code",
   "execution_count": 60,
   "id": "1b86f0a8",
   "metadata": {},
   "outputs": [
    {
     "data": {
      "text/plain": [
       "(50000, 3072)"
      ]
     },
     "execution_count": 60,
     "metadata": {},
     "output_type": "execute_result"
    }
   ],
   "source": [
    "x_train_flattern.shape"
   ]
  },
  {
   "cell_type": "code",
   "execution_count": 61,
   "id": "0efba1a9",
   "metadata": {},
   "outputs": [
    {
     "data": {
      "text/plain": [
       "array([ 59,  62,  63, ..., 123,  92,  72], dtype=uint8)"
      ]
     },
     "execution_count": 61,
     "metadata": {},
     "output_type": "execute_result"
    }
   ],
   "source": [
    "x_train_flattern[0]"
   ]
  },
  {
   "cell_type": "code",
   "execution_count": 62,
   "id": "587d10bb",
   "metadata": {},
   "outputs": [],
   "source": [
    "from sklearn.preprocessing import MinMaxScaler\n",
    "sx=MinMaxScaler()\n",
    "x_train_scaled=sx.fit_transform(x_train_flattern)\n",
    "x_test_scaled=sx.transform(x_test_flattern)"
   ]
  },
  {
   "cell_type": "code",
   "execution_count": 63,
   "id": "2865ef15",
   "metadata": {},
   "outputs": [],
   "source": [
    "classes = [\"airplane\",\"automobile\",\"bird\",\"cat\",\"deer\",\"dog\",\"frog\",\"horse\",\"ship\",\"truck\"]"
   ]
  },
  {
   "cell_type": "code",
   "execution_count": 64,
   "id": "5f618c28",
   "metadata": {},
   "outputs": [
    {
     "data": {
      "text/plain": [
       "10"
      ]
     },
     "execution_count": 64,
     "metadata": {},
     "output_type": "execute_result"
    }
   ],
   "source": [
    "len(classes)"
   ]
  },
  {
   "cell_type": "code",
   "execution_count": 65,
   "id": "177f9986",
   "metadata": {},
   "outputs": [
    {
     "data": {
      "text/plain": [
       "(50000, 1)"
      ]
     },
     "execution_count": 65,
     "metadata": {},
     "output_type": "execute_result"
    }
   ],
   "source": [
    "y_train.shape"
   ]
  },
  {
   "cell_type": "code",
   "execution_count": 66,
   "id": "1080900a",
   "metadata": {},
   "outputs": [
    {
     "data": {
      "text/plain": [
       "'frog'"
      ]
     },
     "execution_count": 66,
     "metadata": {},
     "output_type": "execute_result"
    }
   ],
   "source": [
    "classes[y_train[0][0]]"
   ]
  },
  {
   "cell_type": "code",
   "execution_count": 92,
   "id": "94a45a41",
   "metadata": {},
   "outputs": [
    {
     "name": "stdout",
     "output_type": "stream",
     "text": [
      "Epoch 1/5\n",
      "1563/1563 [==============================] - 139s 88ms/step - loss: 1.8883 - accuracy: 0.3257\n",
      "Epoch 2/5\n",
      "1563/1563 [==============================] - 135s 86ms/step - loss: 1.6603 - accuracy: 0.4007\n",
      "Epoch 3/5\n",
      "1563/1563 [==============================] - 133s 85ms/step - loss: 1.5734 - accuracy: 0.4348\n",
      "Epoch 4/5\n",
      "1563/1563 [==============================] - 133s 85ms/step - loss: 1.5221 - accuracy: 0.4527\n",
      "Epoch 5/5\n",
      "1563/1563 [==============================] - 133s 85ms/step - loss: 1.4805 - accuracy: 0.4675\n"
     ]
    },
    {
     "data": {
      "text/plain": [
       "<keras.src.callbacks.History at 0x2a9e34354f0>"
      ]
     },
     "execution_count": 92,
     "metadata": {},
     "output_type": "execute_result"
    }
   ],
   "source": [
    "model_1=keras.Sequential([\n",
    "    keras.layers.Dense(3000, input_shape=(32*32*3,), activation='relu'),\n",
    "    keras.layers.Dense(1000,activation='relu'),\n",
    "    keras.layers.Dense(10,activation='sigmoid')\n",
    "])\n",
    "model_1.compile(\n",
    "    optimizer='adam',\n",
    "    loss='sparse_categorical_crossentropy',\n",
    "    metrics=['accuracy']\n",
    ")\n",
    "mode_1.fit(x_train_scaled,y_train,epochs=5)"
   ]
  },
  {
   "cell_type": "code",
   "execution_count": null,
   "id": "9f312415",
   "metadata": {},
   "outputs": [],
   "source": [
    "classes[y_test[0][0]]\n",
    "classes[np.argmax(model_1.predict(x_test_scaled)[0])]"
   ]
  },
  {
   "cell_type": "code",
   "execution_count": null,
   "id": "bc5b8b0f",
   "metadata": {},
   "outputs": [],
   "source": [
    "classes[y_test[0][0]]\n",
    "classes[np.argmax(model_1.predict(x_test_scaled)[0])]"
   ]
  },
  {
   "cell_type": "code",
   "execution_count": null,
   "id": "2224a64c",
   "metadata": {},
   "outputs": [
    {
     "name": "stdout",
     "output_type": "stream",
     "text": [
      "Epoch 1/3\n",
      "1563/1563 [==============================] - 139s 88ms/step - loss: 1.8899 - accuracy: 0.3260\n",
      "Epoch 2/3\n",
      "1563/1563 [==============================] - 137s 88ms/step - loss: 1.6518 - accuracy: 0.4081\n",
      "Epoch 3/3\n",
      "1096/1563 [====================>.........] - ETA: 41s - loss: 1.5690 - accuracy: 0.4373"
     ]
    }
   ],
   "source": [
    "model_2=keras.Sequential([\n",
    "    keras.layers.Dense(3000, input_shape=(32*32*3,), activation='relu'),\n",
    "    keras.layers.Dense(1000,activation='relu'),\n",
    "    keras.layers.Dense(10,activation='sigmoid')\n",
    "])\n",
    "model_2.compile(\n",
    "    optimizer='adam',\n",
    "    loss='sparse_categorical_crossentropy',\n",
    "    metrics=['accuracy']\n",
    ")\n",
    "model_2.fit(x_train_scaled,y_train_flattern,epochs=3)"
   ]
  },
  {
   "cell_type": "code",
   "execution_count": null,
   "id": "ea213629",
   "metadata": {},
   "outputs": [],
   "source": [
    "classes[y_test[0][0]]"
   ]
  },
  {
   "cell_type": "code",
   "execution_count": null,
   "id": "1b513830",
   "metadata": {},
   "outputs": [],
   "source": [
    "\n",
    "classes[np.argmax(model_2.predict(x_test_scaled)[0])]"
   ]
  },
  {
   "cell_type": "code",
   "execution_count": 69,
   "id": "8972be27",
   "metadata": {},
   "outputs": [
    {
     "data": {
      "text/plain": [
       "(50000, 1)"
      ]
     },
     "execution_count": 69,
     "metadata": {},
     "output_type": "execute_result"
    }
   ],
   "source": [
    "y_train.shape"
   ]
  },
  {
   "cell_type": "code",
   "execution_count": 95,
   "id": "1be6c709",
   "metadata": {},
   "outputs": [],
   "source": [
    "y_train_categorical = keras.utils.to_categorical(\n",
    "    y_train, num_classes=10, dtype='float32'\n",
    ")\n",
    "y_test_categorical = keras.utils.to_categorical(\n",
    "    y_test, num_classes=10, dtype='float32'\n",
    ")"
   ]
  },
  {
   "cell_type": "code",
   "execution_count": 96,
   "id": "af1ab794",
   "metadata": {},
   "outputs": [
    {
     "data": {
      "text/plain": [
       "(50000, 1)"
      ]
     },
     "execution_count": 96,
     "metadata": {},
     "output_type": "execute_result"
    }
   ],
   "source": [
    "y_train.shape"
   ]
  },
  {
   "cell_type": "code",
   "execution_count": 97,
   "id": "72f0493a",
   "metadata": {},
   "outputs": [
    {
     "data": {
      "text/plain": [
       "(50000, 10)"
      ]
     },
     "execution_count": 97,
     "metadata": {},
     "output_type": "execute_result"
    }
   ],
   "source": [
    "y_train_categorical.shape"
   ]
  },
  {
   "cell_type": "code",
   "execution_count": 98,
   "id": "60b42019",
   "metadata": {},
   "outputs": [
    {
     "data": {
      "text/plain": [
       "array([0., 0., 0., 0., 0., 0., 1., 0., 0., 0.], dtype=float32)"
      ]
     },
     "execution_count": 98,
     "metadata": {},
     "output_type": "execute_result"
    }
   ],
   "source": [
    "y_train_categorical[0]"
   ]
  },
  {
   "cell_type": "code",
   "execution_count": 99,
   "id": "0f58a84f",
   "metadata": {},
   "outputs": [
    {
     "data": {
      "text/plain": [
       "array([[6],\n",
       "       [9],\n",
       "       [9],\n",
       "       [4],\n",
       "       [1]], dtype=uint8)"
      ]
     },
     "execution_count": 99,
     "metadata": {},
     "output_type": "execute_result"
    }
   ],
   "source": [
    "y_train[0:5]"
   ]
  },
  {
   "cell_type": "code",
   "execution_count": 115,
   "id": "884e36b9",
   "metadata": {},
   "outputs": [
    {
     "name": "stdout",
     "output_type": "stream",
     "text": [
      "Epoch 1/3\n",
      "1563/1563 [==============================] - 50s 31ms/step - loss: 1.8127 - accuracy: 0.3541\n",
      "Epoch 2/3\n",
      "1563/1563 [==============================] - 49s 31ms/step - loss: 1.6229 - accuracy: 0.4265\n",
      "Epoch 3/3\n",
      "1563/1563 [==============================] - 48s 31ms/step - loss: 1.5395 - accuracy: 0.4579\n"
     ]
    },
    {
     "data": {
      "text/plain": [
       "<keras.src.callbacks.History at 0x2a995798d00>"
      ]
     },
     "execution_count": 115,
     "metadata": {},
     "output_type": "execute_result"
    }
   ],
   "source": [
    "model_3=keras.Sequential([\n",
    "    keras.layers.Dense(3000, input_shape=(32*32*3,), activation='relu'),\n",
    "    keras.layers.Dense(1000,activation='relu'),\n",
    "    keras.layers.Dense(10,activation='sigmoid')\n",
    "])\n",
    "model_3.compile(\n",
    "    optimizer='SGD',\n",
    "    loss='categorical_crossentropy',\n",
    "    metrics=['accuracy']\n",
    ")\n",
    "model_3.fit(x_train_scaled,y_train_categorical,epochs=3)"
   ]
  },
  {
   "cell_type": "code",
   "execution_count": 117,
   "id": "81f50239",
   "metadata": {},
   "outputs": [
    {
     "data": {
      "text/plain": [
       "'cat'"
      ]
     },
     "execution_count": 117,
     "metadata": {},
     "output_type": "execute_result"
    }
   ],
   "source": [
    "classes[y_test[0][0]]"
   ]
  },
  {
   "cell_type": "code",
   "execution_count": 116,
   "id": "b4edefda",
   "metadata": {},
   "outputs": [
    {
     "name": "stdout",
     "output_type": "stream",
     "text": [
      "313/313 [==============================] - 3s 9ms/step\n"
     ]
    },
    {
     "data": {
      "text/plain": [
       "'dog'"
      ]
     },
     "execution_count": 116,
     "metadata": {},
     "output_type": "execute_result"
    }
   ],
   "source": [
    "\n",
    "classes[np.argmax(model_3.predict(x_test_scaled)[0])]"
   ]
  },
  {
   "cell_type": "code",
   "execution_count": 106,
   "id": "de4b0016",
   "metadata": {},
   "outputs": [],
   "source": [
    "x_train_scaled_2 = x_train / 255\n",
    "x_test_scaled_2 = x_test / 255"
   ]
  },
  {
   "cell_type": "code",
   "execution_count": 112,
   "id": "0d2b4b94",
   "metadata": {},
   "outputs": [
    {
     "name": "stdout",
     "output_type": "stream",
     "text": [
      "1563/1563 [==============================] - 55s 34ms/step - loss: 1.8105 - accuracy: 0.3540\n"
     ]
    },
    {
     "data": {
      "text/plain": [
       "<keras.src.callbacks.History at 0x2a9dec64220>"
      ]
     },
     "execution_count": 112,
     "metadata": {},
     "output_type": "execute_result"
    }
   ],
   "source": [
    "model_4= keras.Sequential([\n",
    "        keras.layers.Flatten(input_shape=(32,32,3)),\n",
    "        keras.layers.Dense(3000, activation='relu'),\n",
    "        keras.layers.Dense(1000, activation='relu'),\n",
    "        keras.layers.Dense(10, activation='sigmoid')    \n",
    "    ])\n",
    "\n",
    "model_4.compile(optimizer='SGD',\n",
    "              loss='categorical_crossentropy',\n",
    "              metrics=['accuracy'])\n",
    "\n",
    "model_4.fit(x_train_scaled_2, y_train_categorical, epochs=1)"
   ]
  },
  {
   "cell_type": "code",
   "execution_count": 110,
   "id": "94007bbe",
   "metadata": {},
   "outputs": [
    {
     "data": {
      "text/plain": [
       "'cat'"
      ]
     },
     "execution_count": 110,
     "metadata": {},
     "output_type": "execute_result"
    }
   ],
   "source": [
    "classes[y_test[0][0]]"
   ]
  },
  {
   "cell_type": "code",
   "execution_count": 114,
   "id": "5fcc1521",
   "metadata": {},
   "outputs": [
    {
     "name": "stdout",
     "output_type": "stream",
     "text": [
      "313/313 [==============================] - 3s 9ms/step\n"
     ]
    },
    {
     "data": {
      "text/plain": [
       "'cat'"
      ]
     },
     "execution_count": 114,
     "metadata": {},
     "output_type": "execute_result"
    }
   ],
   "source": [
    "classes[np.argmax(model_4.predict(x_test_scaled_2)[0])]"
   ]
  },
  {
   "cell_type": "code",
   "execution_count": null,
   "id": "02650cfd",
   "metadata": {},
   "outputs": [],
   "source": []
  }
 ],
 "metadata": {
  "kernelspec": {
   "display_name": "Python 3 (ipykernel)",
   "language": "python",
   "name": "python3"
  },
  "language_info": {
   "codemirror_mode": {
    "name": "ipython",
    "version": 3
   },
   "file_extension": ".py",
   "mimetype": "text/x-python",
   "name": "python",
   "nbconvert_exporter": "python",
   "pygments_lexer": "ipython3",
   "version": "3.9.13"
  }
 },
 "nbformat": 4,
 "nbformat_minor": 5
}
